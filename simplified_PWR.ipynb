{
 "cells": [
  {
   "cell_type": "code",
   "execution_count": 1,
   "metadata": {},
   "outputs": [],
   "source": [
    "%matplotlib inline\n",
    "import openmc\n",
    "import numpy as np"
   ]
  },
  {
   "cell_type": "code",
   "execution_count": 2,
   "metadata": {},
   "outputs": [],
   "source": [
    "# Define materials\n",
    "\n",
    "# Fresh Fuel\n",
    "uo2 = openmc.Material(name=\"uo2\")\n",
    "# Check U enrichment as a weight percentage???\n",
    "uo2.add_nuclide('U235', 0.04)\n",
    "uo2.add_nuclide('U238', 0.96)\n",
    "uo2.add_nuclide('O16', 2.0)\n",
    "uo2.set_density('g/cm3', 10.5)\n",
    "\n",
    "# Zircaloy\n",
    "zircaloy = openmc.Material(name=\"zircaloy\")\n",
    "zircaloy.add_nuclide('Cr52', 7.589e-5)\n",
    "zircaloy.add_nuclide('Fe56', 1.484e-4)\n",
    "zircaloy.add_nuclide('Zr90', 4.298e-2)\n",
    "\n",
    "# Water\n",
    "water = openmc.Material(name=\"h2o\")\n",
    "water.add_nuclide('H1', 2.0)\n",
    "water.add_nuclide('O16', 1.0)\n",
    "water.set_density('g/cm3', 1.0)\n",
    "# above only uses free-atom cross sections - use an S(α,β) table so that the bound atom cross section is used at thermal energies\n",
    "water.add_s_alpha_beta('c_H_in_H2O')\n",
    "\n",
    "materials = openmc.Materials([uo2, zircaloy, water])\n",
    "materials.export_to_xml()"
   ]
  },
  {
   "cell_type": "code",
   "execution_count": 3,
   "metadata": {},
   "outputs": [],
   "source": [
    "# Define geometry\n",
    "\n",
    "fuel_length = 365.76\n",
    "bottom = openmc.ZPlane(z0=-fuel_length/2, boundary_type = 'vacuum')\n",
    "top = openmc.ZPlane(z0=fuel_length/2, boundary_type = 'vacuum')\n",
    "pitch = 1.26\n",
    "fuel_pin_box = openmc.model.RectangularPrism(width=pitch, height=pitch)"
   ]
  },
  {
   "cell_type": "code",
   "execution_count": 4,
   "metadata": {},
   "outputs": [],
   "source": [
    "# Define fuel pin geometry\n",
    "\n",
    "fuel_outer_radius = openmc.ZCylinder(r=0.8166/2, boundary_type = 'vacuum')\n",
    "clad_inner_radius = openmc.ZCylinder(r=0.833/2, boundary_type = 'vacuum')\n",
    "clad_outer_radius = openmc.ZCylinder(r=0.955/2, boundary_type = 'vacuum')\n",
    "\n",
    "fuel_region = -fuel_outer_radius & -top & +bottom\n",
    "gap_region = +fuel_outer_radius & -clad_inner_radius & -top & +bottom\n",
    "clad_region = +clad_inner_radius & -clad_outer_radius & -top & +bottom\n",
    "water_region = -fuel_pin_box & +clad_outer_radius \n",
    "\n",
    "fuel = openmc.Cell(name='fuel')\n",
    "fuel.fill = uo2\n",
    "fuel.region = fuel_region\n",
    "\n",
    "# assume that gap fills with water\n",
    "gap = openmc.Cell(name='gap')\n",
    "gap.fill = water\n",
    "gap.region = gap_region\n",
    "\n",
    "clad = openmc.Cell(name='clad')\n",
    "clad.fill = zircaloy\n",
    "clad.region = clad_region\n",
    "\n",
    "moderator = openmc.Cell(name='moderator')\n",
    "moderator.fill = water\n",
    "moderator.region = water_region\n",
    "\n",
    "fuel_pin_univ = openmc.Universe(cells=[fuel, gap, clad, moderator], name = 'filled')"
   ]
  },
  {
   "cell_type": "code",
   "execution_count": 5,
   "metadata": {},
   "outputs": [],
   "source": [
    "# Define empty channel geometry\n",
    "\n",
    "ec_water_region = -fuel_pin_box & -top & +bottom\n",
    "\n",
    "moderator = openmc.Cell(name='moderator')\n",
    "moderator.fill = water\n",
    "moderator.region = ec_water_region\n",
    "\n",
    "ec_univ = openmc.Universe(cells=[moderator], name = 'empty')"
   ]
  },
  {
   "cell_type": "code",
   "execution_count": 6,
   "metadata": {},
   "outputs": [],
   "source": [
    "# 17x17 array of fuel pins with empty positions (x,y):\n",
    "# (6,3),(9,3),(12,3),\n",
    "# (4,4),(14,4),\n",
    "# (3,6),(6,6),(9,6),(12,6),(15,6),\n",
    "# (3,9),(6,9),(9,9),(12,9),(15,9),\n",
    "# (3,12),(6,12),(9,12),(12,12),(15,12),\n",
    "# (4,14),(14,14),\n",
    "# (6,15),(9,15),(12,15)\n",
    "\n",
    "pin_arr = np.full((17,17), fuel_pin_univ)\n",
    "\n",
    "# row 3\n",
    "pin_arr[2][5] = pin_arr[2][8] = pin_arr[2][11] = ec_univ\n",
    "# row 4\n",
    "pin_arr[3][3] = pin_arr[3][13] = ec_univ\n",
    "# row 6\n",
    "pin_arr[5][2] = pin_arr[5][5] = pin_arr[5][8] = pin_arr[5][11] = pin_arr[5][14] = ec_univ\n",
    "# row 9\n",
    "pin_arr[8][2] = pin_arr[8][5] = pin_arr[8][8] = pin_arr[8][11] = pin_arr[8][14] = ec_univ\n",
    "# row 12\n",
    "pin_arr[11][2] = pin_arr[11][5] = pin_arr[11][8] = pin_arr[11][11] = pin_arr[11][14] = ec_univ\n",
    "# row 14\n",
    "pin_arr[13][3] = pin_arr[13][13] = ec_univ\n",
    "# row 15\n",
    "pin_arr[14][5] = pin_arr[14][8] = pin_arr[14][11] = ec_univ"
   ]
  },
  {
   "cell_type": "code",
   "execution_count": 7,
   "metadata": {},
   "outputs": [
    {
     "name": "stdout",
     "output_type": "stream",
     "text": [
      "RectLattice\n",
      "\tID             =\t3\n",
      "\tName           =\t\n",
      "\tShape          =\t(17, 17)\n",
      "\tLower Left     =\t(-10.71, -10.71)\n",
      "\tPitch          =\t(1.26, 1.26)\n",
      "\tOuter          =\t2\n",
      "\tUniverses      \n",
      "1 1 1 1 1 1 1 1 1 1 1 1 1 1 1 1 1 \n",
      "1 1 1 1 1 1 1 1 1 1 1 1 1 1 1 1 1 \n",
      "1 1 1 1 1 2 1 1 2 1 1 2 1 1 1 1 1 \n",
      "1 1 1 2 1 1 1 1 1 1 1 1 1 2 1 1 1 \n",
      "1 1 1 1 1 1 1 1 1 1 1 1 1 1 1 1 1 \n",
      "1 1 2 1 1 2 1 1 2 1 1 2 1 1 2 1 1 \n",
      "1 1 1 1 1 1 1 1 1 1 1 1 1 1 1 1 1 \n",
      "1 1 1 1 1 1 1 1 1 1 1 1 1 1 1 1 1 \n",
      "1 1 2 1 1 2 1 1 2 1 1 2 1 1 2 1 1 \n",
      "1 1 1 1 1 1 1 1 1 1 1 1 1 1 1 1 1 \n",
      "1 1 1 1 1 1 1 1 1 1 1 1 1 1 1 1 1 \n",
      "1 1 2 1 1 2 1 1 2 1 1 2 1 1 2 1 1 \n",
      "1 1 1 1 1 1 1 1 1 1 1 1 1 1 1 1 1 \n",
      "1 1 1 2 1 1 1 1 1 1 1 1 1 2 1 1 1 \n",
      "1 1 1 1 1 2 1 1 2 1 1 2 1 1 1 1 1 \n",
      "1 1 1 1 1 1 1 1 1 1 1 1 1 1 1 1 1 \n",
      "1 1 1 1 1 1 1 1 1 1 1 1 1 1 1 1 1 \n"
     ]
    }
   ],
   "source": [
    "# Define assembly\n",
    "\n",
    "total_pitch = pitch * 17\n",
    "lattice = openmc.RectLattice()\n",
    "lattice.lower_left = (-total_pitch/2,-total_pitch/2)\n",
    "lattice.pitch = (pitch,pitch)\n",
    "lattice.outer = ec_univ\n",
    "lattice.universes = pin_arr\n",
    "\n",
    "print(lattice)"
   ]
  },
  {
   "cell_type": "code",
   "execution_count": 25,
   "metadata": {},
   "outputs": [
    {
     "data": {
      "text/plain": [
       "<Axes: xlabel='x [cm]', ylabel='y [cm]'>"
      ]
     },
     "execution_count": 25,
     "metadata": {},
     "output_type": "execute_result"
    },
    {
     "data": {
      "image/png": "[encoded data removed]",
      "text/plain": [
       "<Figure size 258.065x259.74 with 1 Axes>"
      ]
     },
     "metadata": {},
     "output_type": "display_data"
    }
   ],
   "source": [
    "assembly = openmc.Cell(fill=lattice)\n",
    "geometry = openmc.Geometry([assembly])\n",
    "geometry.plot(width=(total_pitch, total_pitch), color_by = 'material',\n",
    "              colors = {uo2: 'gold', zircaloy: 'darkgreen', water: 'lightskyblue'})"
   ]
  },
  {
   "cell_type": "code",
   "execution_count": null,
   "metadata": {},
   "outputs": [],
   "source": []
  }
 ],
 "metadata": {
  "anaconda-cloud": {},
  "kernelspec": {
   "display_name": "Python 3 (ipykernel)",
   "language": "python",
   "name": "python3"
  },
  "language_info": {
   "codemirror_mode": {
    "name": "ipython",
    "version": 3
   },
   "file_extension": ".py",
   "mimetype": "text/x-python",
   "name": "python",
   "nbconvert_exporter": "python",
   "pygments_lexer": "ipython3",
   "version": "3.11.2"
  }
 },
 "nbformat": 4,
 "nbformat_minor": 4
}
